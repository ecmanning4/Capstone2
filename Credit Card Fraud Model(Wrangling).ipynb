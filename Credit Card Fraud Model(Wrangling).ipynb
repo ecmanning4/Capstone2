{
 "cells": [
  {
   "cell_type": "code",
   "execution_count": 5,
   "id": "4868de5f",
   "metadata": {},
   "outputs": [],
   "source": [
    "#Import packages Numpy and Pandas\n",
    "\n",
    "import pandas as pd\n",
    "import numpy as np\n",
    "pd.options.display.max_columns = None\n",
    "pd.options.display.max_rows = None"
   ]
  },
  {
   "cell_type": "code",
   "execution_count": 6,
   "id": "97938206",
   "metadata": {},
   "outputs": [],
   "source": [
    "#Read in dataset obtained from www.kaggle.com/datasets/kartik2112/fraud-detection/ that is currently in working directory\n",
    "\n",
    "df_train = pd.read_csv('fraudTrain.csv')"
   ]
  },
  {
   "cell_type": "code",
   "execution_count": 7,
   "id": "c593a223",
   "metadata": {},
   "outputs": [
    {
     "name": "stdout",
     "output_type": "stream",
     "text": [
      "   Unnamed: 0 trans_date_trans_time            cc_num  \\\n",
      "0           0   2019-01-01 00:00:18  2703186189652095   \n",
      "1           1   2019-01-01 00:00:44      630423337322   \n",
      "2           2   2019-01-01 00:00:51    38859492057661   \n",
      "3           3   2019-01-01 00:01:16  3534093764340240   \n",
      "4           4   2019-01-01 00:03:06   375534208663984   \n",
      "\n",
      "                             merchant       category     amt      first  \\\n",
      "0          fraud_Rippin, Kub and Mann       misc_net    4.97   Jennifer   \n",
      "1     fraud_Heller, Gutmann and Zieme    grocery_pos  107.23  Stephanie   \n",
      "2                fraud_Lind-Buckridge  entertainment  220.11     Edward   \n",
      "3  fraud_Kutch, Hermiston and Farrell  gas_transport   45.00     Jeremy   \n",
      "4                 fraud_Keeling-Crist       misc_pos   41.96      Tyler   \n",
      "\n",
      "      last gender                        street            city state    zip  \\\n",
      "0    Banks      F                561 Perry Cove  Moravian Falls    NC  28654   \n",
      "1     Gill      F  43039 Riley Greens Suite 393          Orient    WA  99160   \n",
      "2  Sanchez      M      594 White Dale Suite 530      Malad City    ID  83252   \n",
      "3    White      M   9443 Cynthia Court Apt. 038         Boulder    MT  59632   \n",
      "4   Garcia      M              408 Bradley Rest        Doe Hill    VA  24433   \n",
      "\n",
      "       lat      long  city_pop                                job         dob  \\\n",
      "0  36.0788  -81.1781      3495          Psychologist, counselling  1988-03-09   \n",
      "1  48.8878 -118.2105       149  Special educational needs teacher  1978-06-21   \n",
      "2  42.1808 -112.2620      4154        Nature conservation officer  1962-01-19   \n",
      "3  46.2306 -112.1138      1939                    Patent attorney  1967-01-12   \n",
      "4  38.4207  -79.4629        99     Dance movement psychotherapist  1986-03-28   \n",
      "\n",
      "                          trans_num   unix_time  merch_lat  merch_long  \\\n",
      "0  0b242abb623afc578575680df30655b9  1325376018  36.011293  -82.048315   \n",
      "1  1f76529f8574734946361c461b024d99  1325376044  49.159047 -118.186462   \n",
      "2  a1a22d70485983eac12b5b88dad1cf95  1325376051  43.150704 -112.154481   \n",
      "3  6b849c168bdad6f867558c3793159a81  1325376076  47.034331 -112.561071   \n",
      "4  a41d7549acf90789359a9aa5346dcb46  1325376186  38.674999  -78.632459   \n",
      "\n",
      "   is_fraud  \n",
      "0         0  \n",
      "1         0  \n",
      "2         0  \n",
      "3         0  \n",
      "4         0  \n"
     ]
    },
    {
     "data": {
      "text/plain": [
       "(1296675, 23)"
      ]
     },
     "execution_count": 7,
     "metadata": {},
     "output_type": "execute_result"
    }
   ],
   "source": [
    "#Check the head and shape of our dataset\n",
    "\n",
    "print(df_train.head())\n",
    "\n",
    "df_train.shape"
   ]
  },
  {
   "cell_type": "code",
   "execution_count": 8,
   "id": "a98a2ca4",
   "metadata": {},
   "outputs": [
    {
     "name": "stdout",
     "output_type": "stream",
     "text": [
      "  trans_date_trans_time            cc_num                            merchant  \\\n",
      "0   2019-01-01 00:00:18  2703186189652095          fraud_Rippin, Kub and Mann   \n",
      "1   2019-01-01 00:00:44      630423337322     fraud_Heller, Gutmann and Zieme   \n",
      "2   2019-01-01 00:00:51    38859492057661                fraud_Lind-Buckridge   \n",
      "3   2019-01-01 00:01:16  3534093764340240  fraud_Kutch, Hermiston and Farrell   \n",
      "4   2019-01-01 00:03:06   375534208663984                 fraud_Keeling-Crist   \n",
      "\n",
      "        category     amt      first     last gender  \\\n",
      "0       misc_net    4.97   Jennifer    Banks      F   \n",
      "1    grocery_pos  107.23  Stephanie     Gill      F   \n",
      "2  entertainment  220.11     Edward  Sanchez      M   \n",
      "3  gas_transport   45.00     Jeremy    White      M   \n",
      "4       misc_pos   41.96      Tyler   Garcia      M   \n",
      "\n",
      "                         street            city state    zip      lat  \\\n",
      "0                561 Perry Cove  Moravian Falls    NC  28654  36.0788   \n",
      "1  43039 Riley Greens Suite 393          Orient    WA  99160  48.8878   \n",
      "2      594 White Dale Suite 530      Malad City    ID  83252  42.1808   \n",
      "3   9443 Cynthia Court Apt. 038         Boulder    MT  59632  46.2306   \n",
      "4              408 Bradley Rest        Doe Hill    VA  24433  38.4207   \n",
      "\n",
      "       long  city_pop                                job         dob  \\\n",
      "0  -81.1781      3495          Psychologist, counselling  1988-03-09   \n",
      "1 -118.2105       149  Special educational needs teacher  1978-06-21   \n",
      "2 -112.2620      4154        Nature conservation officer  1962-01-19   \n",
      "3 -112.1138      1939                    Patent attorney  1967-01-12   \n",
      "4  -79.4629        99     Dance movement psychotherapist  1986-03-28   \n",
      "\n",
      "                          trans_num   unix_time  merch_lat  merch_long  \\\n",
      "0  0b242abb623afc578575680df30655b9  1325376018  36.011293  -82.048315   \n",
      "1  1f76529f8574734946361c461b024d99  1325376044  49.159047 -118.186462   \n",
      "2  a1a22d70485983eac12b5b88dad1cf95  1325376051  43.150704 -112.154481   \n",
      "3  6b849c168bdad6f867558c3793159a81  1325376076  47.034331 -112.561071   \n",
      "4  a41d7549acf90789359a9aa5346dcb46  1325376186  38.674999  -78.632459   \n",
      "\n",
      "   is_fraud  \n",
      "0         0  \n",
      "1         0  \n",
      "2         0  \n",
      "3         0  \n",
      "4         0  \n"
     ]
    },
    {
     "data": {
      "text/plain": [
       "(1296675, 22)"
      ]
     },
     "execution_count": 8,
     "metadata": {},
     "output_type": "execute_result"
    }
   ],
   "source": [
    "#Remove Unnamed: 0 column which seems to be a manual index count and is therefore not needed\n",
    "df_train = df_train.drop('Unnamed: 0', axis = 1)\n",
    "\n",
    "print(df_train.head())\n",
    "\n",
    "df_train.shape"
   ]
  },
  {
   "cell_type": "code",
   "execution_count": 13,
   "id": "331625b1",
   "metadata": {},
   "outputs": [
    {
     "data": {
      "text/plain": [
       "trans_date_trans_time    0\n",
       "cc_num                   0\n",
       "merchant                 0\n",
       "category                 0\n",
       "amt                      0\n",
       "first                    0\n",
       "last                     0\n",
       "gender                   0\n",
       "street                   0\n",
       "city                     0\n",
       "state                    0\n",
       "zip                      0\n",
       "lat                      0\n",
       "long                     0\n",
       "city_pop                 0\n",
       "job                      0\n",
       "dob                      0\n",
       "trans_num                0\n",
       "unix_time                0\n",
       "merch_lat                0\n",
       "merch_long               0\n",
       "is_fraud                 0\n",
       "dtype: int64"
      ]
     },
     "execution_count": 13,
     "metadata": {},
     "output_type": "execute_result"
    }
   ],
   "source": [
    "#Check for missing or Null values and drop any duplicates that may be present\n",
    "df_train.isnull().sum()"
   ]
  },
  {
   "cell_type": "code",
   "execution_count": 14,
   "id": "c76afb9c",
   "metadata": {},
   "outputs": [
    {
     "name": "stdout",
     "output_type": "stream",
     "text": [
      "Amount of duplicated rows removed: 0\n"
     ]
    }
   ],
   "source": [
    "print(f\"Amount of duplicated rows removed: {df_train.duplicated().sum()}\")\n",
    "\n",
    "df_train = df_train.drop_duplicates()"
   ]
  },
  {
   "cell_type": "markdown",
   "id": "5ab3ce89",
   "metadata": {},
   "source": [
    "From this we can see that our dataset is a set of 1,296,675 transactions with 23 features to the transaction. Our target variable is the column \"is_fraud\" with the rest of the 22 columns being our feature variables such as time of transaction, amount of transaction, spending category, and merchant category. Some personal imformation about the card holders such as Name my not be relavent to our fraud model but those can be dropped later in our Feature Engineering. As we can see, we have no missing values in any of our columns nor do we have any duplicates. This tracks for what is expected for a record of well kept transactional data"
   ]
  }
 ],
 "metadata": {
  "celltoolbar": "Raw Cell Format",
  "kernelspec": {
   "display_name": "Python 3 (ipykernel)",
   "language": "python",
   "name": "python3"
  },
  "language_info": {
   "codemirror_mode": {
    "name": "ipython",
    "version": 3
   },
   "file_extension": ".py",
   "mimetype": "text/x-python",
   "name": "python",
   "nbconvert_exporter": "python",
   "pygments_lexer": "ipython3",
   "version": "3.10.9"
  }
 },
 "nbformat": 4,
 "nbformat_minor": 5
}
